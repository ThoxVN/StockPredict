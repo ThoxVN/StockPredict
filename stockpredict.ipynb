{
  "nbformat": 4,
  "nbformat_minor": 0,
  "metadata": {
    "colab": {
      "provenance": []
    },
    "kernelspec": {
      "name": "python3",
      "display_name": "Python 3"
    },
    "language_info": {
      "name": "python"
    }
  },
  "cells": [
    {
      "cell_type": "code",
      "source": [
        "!pip install -U vnstock\n",
        "\n",
        "import vnstock\n",
        "\n",
        "def get_stock_historical_data(symbol):\n",
        "    try:\n",
        "        # Tạo đối tượng Stock của yfinance cho mã chứng khoán cụ thể\n",
        "        stock_data = vnstock.stock_historical_data(symbol, \"2020-01-01\", \"2024-02-25\", \"1D\", 'stock')\n",
        "        return stock_data\n",
        "\n",
        "    except Exception as e:\n",
        "        print(f\"Lỗi khi tải thông tin chứng khoán: {e}\")\n",
        "        return None\n"
      ],
      "metadata": {
        "colab": {
          "base_uri": "https://localhost:8080/"
        },
        "id": "r8UOHYB-3ARR",
        "outputId": "09f9b939-bcac-498a-d89e-4904abd60f7d"
      },
      "execution_count": null,
      "outputs": [
        {
          "output_type": "stream",
          "name": "stdout",
          "text": [
            "Requirement already satisfied: vnstock in /usr/local/lib/python3.10/dist-packages (0.2.9.0)\n"
          ]
        }
      ]
    },
    {
      "cell_type": "code",
      "source": [
        "import yfinance as yf\n",
        "\n",
        "def get_gold_and_oil_prices(date1, date2):\n",
        "    \"\"\"\n",
        "    Lấy giá vàng và giá dầu tại một ngày cụ thể.\n",
        "\n",
        "    Parameters:\n",
        "        date (str): Ngày cần lấy dữ liệu (định dạng 'YYYY-MM-DD').\n",
        "\n",
        "    Returns:\n",
        "        tuple: Một tuple chứa giá vàng và giá dầu tại ngày đã chọn.\n",
        "    \"\"\"\n",
        "    try:\n",
        "        # Tạo đối tượng Ticker cho vàng (Gold Futures) và dầu thô (Crude Oil Futures)\n",
        "        gold = yf.Ticker('GC=F')\n",
        "        oil = yf.Ticker('CL=F')\n",
        "\n",
        "        # Lấy dữ liệu giá vàng và giá dầu cho ngày cụ thể\n",
        "        gold_data = gold.history(period = '1d',start=date1, end=date2)\n",
        "        oil_data = oil.history(period = '1d',start=date1, end=date2)\n",
        "\n",
        "        if gold_data.empty or oil_data.empty:\n",
        "            print(f\"No price data found for date: {date1}\")\n",
        "            return None, None\n",
        "\n",
        "        # Trích xuất giá vàng và giá dầu từ dữ liệu\n",
        "        gold_price = gold_data['Close'].iloc[0]  # Giá vàng là giá đóng cửa (Close)\n",
        "        oil_price = oil_data['Close'].iloc[0]    # Giá dầu cũng là giá đóng cửa (Close)\n",
        "\n",
        "\n",
        "        return gold_price, oil_price\n",
        "\n",
        "    except Exception as e:\n",
        "        print(\"Đã xảy ra lỗi:\", e)\n",
        "        return None, None"
      ],
      "metadata": {
        "id": "HXo2w_dIcqnl"
      },
      "execution_count": null,
      "outputs": []
    },
    {
      "cell_type": "code",
      "source": [
        "# Nhập chuỗi các symbol cách nhau bằng dấu phẩy\n",
        "symbol_input = input(\"Nhập mã symbol chứng khoáng cần dự đoán: \")\n",
        "stock_data = get_stock_historical_data(symbol_input)\n",
        "stock_data = stock_data.rename(columns={\"time\": \"Date\", \"close\":\"Close\"})\n",
        "print(stock_data)\n",
        "# Khởi tạo mảng để lưu dữ liệu\n",
        "data_list = []\n",
        "# Lặp qua từng ngày và lấy dữ liệu giá vàng và giá dầu\n",
        "date1 = '2020-01-01'\n",
        "for date2 in stock_data.Date:\n",
        "    gold_price, oil_price = get_gold_and_oil_prices(date1,date2)\n",
        "    data_list.append({'Date': date1,'Gold Price': gold_price, 'Oil Price': oil_price})\n",
        "    date1 = date2"
      ],
      "metadata": {
        "colab": {
          "base_uri": "https://localhost:8080/"
        },
        "id": "UftxdJo2cw8A",
        "outputId": "fd91f809-d82a-4cf7-f0c9-c0ef96c0bb88"
      },
      "execution_count": null,
      "outputs": [
        {
          "output_type": "stream",
          "name": "stdout",
          "text": [
            "Nhập mã symbol chứng khoáng cần dự đoán: VNM\n",
            "            Date   open   high    low  Close   volume ticker\n",
            "0     2020-01-02  80770  81590  80420  81400   352700    VNM\n",
            "1     2020-01-03  81590  82140  81590  81660   625390    VNM\n",
            "2     2020-01-06  81460  81590  80630  81040   495910    VNM\n",
            "3     2020-01-07  81110  82000  81110  81800   459520    VNM\n",
            "4     2020-01-08  81800  82000  81110  82000   837710    VNM\n",
            "...          ...    ...    ...    ...    ...      ...    ...\n",
            "1030  2024-02-19  69990  71670  69800  70980  6652800    VNM\n",
            "1031  2024-02-20  70780  71480  70390  70590  4385700    VNM\n",
            "1032  2024-02-21  70590  70980  70090  70390  3590200    VNM\n",
            "1033  2024-02-22  70390  71770  70190  70690  4648100    VNM\n",
            "1034  2024-02-23  70880  71770  70090  70090  6142500    VNM\n",
            "\n",
            "[1035 rows x 7 columns]\n",
            "Đã xảy ra lỗi: index 0 is out of bounds for axis 0 with size 0\n",
            "Đã xảy ra lỗi: index 0 is out of bounds for axis 0 with size 0\n",
            "Đã xảy ra lỗi: index 0 is out of bounds for axis 0 with size 0\n",
            "Đã xảy ra lỗi: index 0 is out of bounds for axis 0 with size 0\n",
            "Đã xảy ra lỗi: index 0 is out of bounds for axis 0 with size 0\n",
            "Đã xảy ra lỗi: index 0 is out of bounds for axis 0 with size 0\n",
            "Đã xảy ra lỗi: index 0 is out of bounds for axis 0 with size 0\n"
          ]
        },
        {
          "output_type": "stream",
          "name": "stderr",
          "text": [
            "ERROR:yfinance:GC=F: No price data found, symbol may be delisted (1d 2020-11-26 -> 2020-11-27)\n",
            "ERROR:yfinance:CL=F: No price data found, symbol may be delisted (1d 2020-11-26 -> 2020-11-27)\n"
          ]
        },
        {
          "output_type": "stream",
          "name": "stdout",
          "text": [
            "No price data found for date: 2020-11-26\n",
            "Đã xảy ra lỗi: index 0 is out of bounds for axis 0 with size 0\n",
            "Đã xảy ra lỗi: index 0 is out of bounds for axis 0 with size 0\n",
            "Đã xảy ra lỗi: index 0 is out of bounds for axis 0 with size 0\n",
            "Đã xảy ra lỗi: index 0 is out of bounds for axis 0 with size 0\n",
            "Đã xảy ra lỗi: index 0 is out of bounds for axis 0 with size 0\n",
            "Đã xảy ra lỗi: index 0 is out of bounds for axis 0 with size 0\n"
          ]
        },
        {
          "output_type": "stream",
          "name": "stderr",
          "text": [
            "ERROR:yfinance:GC=F: No price data found, symbol may be delisted (1d 2021-11-25 -> 2021-11-26)\n",
            "ERROR:yfinance:CL=F: No price data found, symbol may be delisted (1d 2021-11-25 -> 2021-11-26)\n"
          ]
        },
        {
          "output_type": "stream",
          "name": "stdout",
          "text": [
            "No price data found for date: 2021-11-25\n",
            "Đã xảy ra lỗi: index 0 is out of bounds for axis 0 with size 0\n",
            "Đã xảy ra lỗi: index 0 is out of bounds for axis 0 with size 0\n",
            "Đã xảy ra lỗi: index 0 is out of bounds for axis 0 with size 0\n",
            "Đã xảy ra lỗi: index 0 is out of bounds for axis 0 with size 0\n",
            "Đã xảy ra lỗi: index 0 is out of bounds for axis 0 with size 0\n",
            "Đã xảy ra lỗi: index 0 is out of bounds for axis 0 with size 0\n",
            "Đã xảy ra lỗi: index 0 is out of bounds for axis 0 with size 0\n",
            "Đã xảy ra lỗi: index 0 is out of bounds for axis 0 with size 0\n"
          ]
        },
        {
          "output_type": "stream",
          "name": "stderr",
          "text": [
            "ERROR:yfinance:GC=F: No price data found, symbol may be delisted (1d 2022-11-24 -> 2022-11-25)\n",
            "ERROR:yfinance:CL=F: No price data found, symbol may be delisted (1d 2022-11-24 -> 2022-11-25)\n"
          ]
        },
        {
          "output_type": "stream",
          "name": "stdout",
          "text": [
            "No price data found for date: 2022-11-24\n",
            "Đã xảy ra lỗi: index 0 is out of bounds for axis 0 with size 0\n",
            "Đã xảy ra lỗi: index 0 is out of bounds for axis 0 with size 0\n",
            "Đã xảy ra lỗi: index 0 is out of bounds for axis 0 with size 0\n",
            "Đã xảy ra lỗi: index 0 is out of bounds for axis 0 with size 0\n",
            "Đã xảy ra lỗi: index 0 is out of bounds for axis 0 with size 0\n",
            "Đã xảy ra lỗi: index 0 is out of bounds for axis 0 with size 0\n",
            "Đã xảy ra lỗi: index 0 is out of bounds for axis 0 with size 0\n",
            "Đã xảy ra lỗi: index 0 is out of bounds for axis 0 with size 0\n",
            "Đã xảy ra lỗi: index 0 is out of bounds for axis 0 with size 0\n",
            "Đã xảy ra lỗi: index 0 is out of bounds for axis 0 with size 0\n",
            "Đã xảy ra lỗi: index 0 is out of bounds for axis 0 with size 0\n"
          ]
        }
      ]
    },
    {
      "cell_type": "code",
      "source": [
        "import pandas as pd\n",
        "# Chuyển đổi mảng thành DataFrame\n",
        "data_df = pd.DataFrame(data_list)\n",
        "data_df.dropna(inplace=True)\n",
        "merged_data = pd.merge(data_df, stock_data, on='Date')\n",
        "merged_data.dropna(inplace=True)\n",
        "# In ra DataFrame chứa dữ liệu của các ngày đã lấy\n",
        "print(data_df.shape)\n",
        "print(merged_data.shape)"
      ],
      "metadata": {
        "colab": {
          "base_uri": "https://localhost:8080/"
        },
        "id": "Ay0H-ld8tRob",
        "outputId": "9ce11ad1-47f7-4e45-f733-6c1a259b4eda"
      },
      "execution_count": null,
      "outputs": [
        {
          "output_type": "stream",
          "name": "stdout",
          "text": [
            "(1000, 3)\n",
            "(1001, 9)\n"
          ]
        }
      ]
    },
    {
      "cell_type": "code",
      "source": [
        "#Xây dựng mô hình hồi quy đa biến:\n",
        "import numpy as np\n",
        "from sklearn.linear_model import LinearRegression\n",
        "X= np.concatenate((merged_data[['Gold Price']], merged_data[['Oil Price']]), axis=1)\n",
        "Y= merged_data.Close\n",
        "print(X)\n",
        "model = LinearRegression();\n",
        "model.fit(X, Y)\n",
        "# In ra các hệ số hồi quy\n",
        "print('Intercept:', model.intercept_)\n",
        "print('Coefficients:', model.coef_)"
      ],
      "metadata": {
        "id": "DRCwkvzQmwdR",
        "colab": {
          "base_uri": "https://localhost:8080/"
        },
        "outputId": "be6bc8d6-9042-4e24-d38a-0398b51a3699"
      },
      "execution_count": null,
      "outputs": [
        {
          "output_type": "stream",
          "name": "stdout",
          "text": [
            "[[1524.5          61.18000031]\n",
            " [1549.19995117   63.04999924]\n",
            " [1566.19995117   63.27000046]\n",
            " ...\n",
            " [2027.5          78.18000031]\n",
            " [2022.30004883   77.91000366]\n",
            " [2019.69995117   78.61000061]]\n",
            "Intercept: 90251.51989807925\n",
            "Coefficients: [  -0.73771601 -194.31549122]\n"
          ]
        }
      ]
    },
    {
      "cell_type": "code",
      "source": [
        "# Tạo đối tượng Ticker cho vàng (Gold Futures) và dầu thô (Crude Oil Futures)\n",
        "gold = yf.Ticker('GC=F')\n",
        "oil = yf.Ticker('CL=F')\n",
        "\n",
        "# Lấy dữ liệu giá vàng và dầu thô cho ngày hiện tại\n",
        "gold_current = gold.history(period='1d')['Close'].iloc[0]\n",
        "oil_current = oil.history(period='1d')['Close'].iloc[0]\n",
        "\n",
        "# Tạo mảng đầu vào cho mô hình\n",
        "input_data = np.array([[gold_current, oil_current]])\n",
        "\n",
        "# Dự đoán giá trị chứng khoán với mô hình\n",
        "predicted_stock_price = model.predict(input_data).flatten()[0]\n",
        "\n",
        "# In kết quả dự đoán\n",
        "print(f\"Dự đoán giá trị chứng khoán: {predicted_stock_price}\")"
      ],
      "metadata": {
        "id": "Tm5kJZx6kQOq",
        "colab": {
          "base_uri": "https://localhost:8080/"
        },
        "outputId": "0895d30c-6a09-4bb4-a754-376e3599c7cc"
      },
      "execution_count": null,
      "outputs": [
        {
          "output_type": "stream",
          "name": "stdout",
          "text": [
            "Dự đoán giá trị chứng khoán: 73127.67129561894\n"
          ]
        }
      ]
    }
  ]
}